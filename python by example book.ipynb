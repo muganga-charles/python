{
 "cells": [
  {
   "cell_type": "code",
   "execution_count": null,
   "metadata": {},
   "outputs": [
    {
     "ename": "",
     "evalue": "",
     "output_type": "error",
     "traceback": [
      "\u001b[1;31mRunning cells with 'Python 3.10.5 ('venv')' requires ipykernel package.\n",
      "Run the following command to install 'ipykernel' into the Python environment. \n",
      "Command: 'c:/Users/hp/PycharmProjects/first/venv/Scripts/python.exe -m pip install ipykernel -U --force-reinstall'"
     ]
    }
   ],
   "source": [
    "#001\n",
    "a=input(\"enter first name\")\n",
    "print(\"hello\",[a])"
   ]
  },
  {
   "cell_type": "code",
   "execution_count": null,
   "metadata": {},
   "outputs": [],
   "source": [
    "#002\n",
    "b=input(\"enter sirname\")\n",
    "print(\"hello\",[b])\n"
   ]
  },
  {
   "cell_type": "code",
   "execution_count": null,
   "metadata": {},
   "outputs": [],
   "source": [
    "#003\n",
    "print(\"What do you call a bear with no teeth?\\nA gummy bear!\")"
   ]
  },
  {
   "cell_type": "code",
   "execution_count": null,
   "metadata": {},
   "outputs": [],
   "source": [
    "#004\n",
    "a=int(input(\"enter number1\"))\n",
    "b=int(input(\"enter number2\"))\n",
    "answer=a+b\n",
    "print(\"the total is\",answer)"
   ]
  },
  {
   "cell_type": "code",
   "execution_count": null,
   "metadata": {},
   "outputs": [],
   "source": [
    "#005\n",
    "a=int(input(\"enter number1\"))\n",
    "b=int(input(\"enter number2\"))\n",
    "c=int(input(\"enter nmber3\"))\n",
    "answer=(a+b)*c\n",
    "print(\"the total is\",answer)"
   ]
  },
  {
   "cell_type": "code",
   "execution_count": null,
   "metadata": {},
   "outputs": [],
   "source": [
    "#009\n",
    "days=int(input(\"enter the number of days\"))\n",
    "hours=days*24\n",
    "minutes=hours*60\n",
    "seconds=minutes*60\n",
    "print(\"we have\")\n",
    "print(hours,\"hours\")\n",
    "print(minutes,\"minutes\")\n",
    "print(seconds,\"seconds\")"
   ]
  },
  {
   "cell_type": "code",
   "execution_count": null,
   "metadata": {},
   "outputs": [],
   "source": [
    "#011\n",
    "big=int(input('enter a number over 100'))\n",
    "small=int(input('enter a number umnder 10'))\n",
    "quotient=big//small\n",
    "print(small,\"goes into\",big,quotient,\"times\")"
   ]
  },
  {
   "cell_type": "code",
   "execution_count": null,
   "metadata": {},
   "outputs": [],
   "source": [
    "#012\n",
    "#if statements\n",
    "a=int(input(\"enter number1\"))\n",
    "b=int(input(\"enter number2\"))\n",
    "if a > b:\n",
    "    print(a,b)\n",
    "else:\n",
    "    print(b,a)"
   ]
  },
  {
   "cell_type": "code",
   "execution_count": null,
   "metadata": {},
   "outputs": [],
   "source": [
    "#013\n",
    "b=int(input(\"enter number less than 20\"))\n",
    "if b>20:\n",
    "    print(\"too high,thank you\")\n"
   ]
  },
  {
   "cell_type": "code",
   "execution_count": null,
   "metadata": {},
   "outputs": [],
   "source": [
    "#014\n",
    "b=int(input(\"enter number between 10 and 20\"))\n",
    "if b>10 and b<20:\n",
    "    print(\"thank you\")\n",
    "else:\n",
    "    print('incorrect number')"
   ]
  },
  {
   "cell_type": "code",
   "execution_count": null,
   "metadata": {},
   "outputs": [],
   "source": [
    "#015\n",
    "color=(input(\"enter favorate color\"))\n",
    "if color=='red' or color=='RED':\n",
    "    print(\"I LIKE RED TOO\")\n",
    "else:\n",
    "    print(\"i dont like\",color,\"i prefer red\")"
   ]
  },
  {
   "cell_type": "code",
   "execution_count": null,
   "metadata": {},
   "outputs": [],
   "source": [
    "#016\n",
    "b=(input(\"is it raining\"))\n",
    "b=str.lower(b)#this turns my answer to lower case\n",
    "if b=='yes':\n",
    "    c=(input(\"is it windy\"))\n",
    "    if c=='yes':\n",
    "        print(\"“It is too windy for an umbrella\")\n",
    "    else:\n",
    "        print(\"“Take an umbrella”\")\n",
    "else:\n",
    "    print(\"Enjoy your day\")"
   ]
  },
  {
   "cell_type": "code",
   "execution_count": null,
   "metadata": {},
   "outputs": [],
   "source": [
    "#017\n",
    "age=int((input(\"enter your age\")))\n",
    "if age==18:\n",
    "    print(\"“You can vote\")\n",
    "elif age==17:\n",
    "    print(\"“You can learn to drive\")\n",
    "elif age==16:\n",
    "    print(\"“You can buy a lottery ticket\")\n",
    "else:\n",
    "    print(\"“You can go to Trick or Treating\")\n",
    "\n",
    "\n"
   ]
  },
  {
   "cell_type": "code",
   "execution_count": null,
   "metadata": {},
   "outputs": [],
   "source": [
    "#strings\n",
    "#020\n",
    "name=(input(\"enter your name\"))\n",
    "len(name)\n"
   ]
  },
  {
   "cell_type": "code",
   "execution_count": null,
   "metadata": {},
   "outputs": [],
   "source": [
    "#21\n",
    "first=(input(\"enter your first name\"))\n",
    "second=(input(\"enter your second name\"))\n",
    "print(first+second)"
   ]
  },
  {
   "cell_type": "code",
   "execution_count": null,
   "metadata": {},
   "outputs": [],
   "source": [
    "#22\n",
    "first=(input(\"enter your first name in lower case\"))\n",
    "second=(input(\"enter your second name in lower case\"))\n",
    "name=first+second\n",
    "name.upper()"
   ]
  },
  {
   "cell_type": "code",
   "execution_count": null,
   "metadata": {},
   "outputs": [],
   "source": [
    "#23\n",
    "first=(input(\"enter your first line of a nursery rhyme \"))\n",
    "a=int(input(\"emgter starting number\"))\n",
    "b=int(input(\"emgter ending number\"))\n",
    "print(first[a:b])\n",
    "len(first)"
   ]
  },
  {
   "cell_type": "code",
   "execution_count": null,
   "metadata": {},
   "outputs": [],
   "source": [
    "#24\n",
    "word=(input(\"enter any word\"))\n",
    "word.upper()"
   ]
  },
  {
   "cell_type": "code",
   "execution_count": null,
   "metadata": {},
   "outputs": [],
   "source": [
    "#25\n",
    "name=(input(\"enter your first name\"))\n",
    "if len(name)<5:\n",
    "    surname=(input(\"enter your surname\"))\n",
    "    add=name+surname\n",
    "    print(add.upper())\n",
    "    \n",
    "else:\n",
    "    print(name.lower())\n",
    "    "
   ]
  },
  {
   "cell_type": "code",
   "execution_count": null,
   "metadata": {},
   "outputs": [],
   "source": [
    "#26\n",
    "word=(input(\"enter a word\"))\n",
    "first= word[0]\n",
    "length=len(word)\n",
    "rest=word[1:length]\n",
    "if first !='a'and first !='e' and first !='i' and first !='o' and first !='u':\n",
    "   \n",
    "    newword = rest+first +\"ay\"\n",
    "else:\n",
    "    newword=word + \"way\"\n",
    "print(newword.lower())\n",
    "\n"
   ]
  },
  {
   "cell_type": "code",
   "execution_count": null,
   "metadata": {},
   "outputs": [],
   "source": [
    "#MATH\n",
    "#27\n",
    "number=float(input(\"enter a number\"))\n",
    "number*2\n"
   ]
  },
  {
   "cell_type": "code",
   "execution_count": null,
   "metadata": {},
   "outputs": [],
   "source": [
    "#28\n",
    "number=float(input(\"enter a number\"))\n",
    "number*2\n",
    "print(round(number*2,2))"
   ]
  },
  {
   "cell_type": "code",
   "execution_count": null,
   "metadata": {},
   "outputs": [],
   "source": [
    "#29\n",
    "import math\n",
    "number=int(input(\"enter an integer that is over 500\"))\n",
    "print(round(math.sqrt(number),2))"
   ]
  },
  {
   "cell_type": "code",
   "execution_count": null,
   "metadata": {},
   "outputs": [],
   "source": [
    "#30\n",
    "import math\n",
    "print(round(math.pi,5))"
   ]
  },
  {
   "cell_type": "code",
   "execution_count": null,
   "metadata": {},
   "outputs": [],
   "source": [
    "#31\n",
    "import math\n",
    "radius=int(input(\"enter an radius of a circle\"))\n",
    "area=math.pi*radius*radius\n",
    "print(round(area,4))"
   ]
  },
  {
   "cell_type": "code",
   "execution_count": null,
   "metadata": {},
   "outputs": [],
   "source": [
    "#32\n",
    "import math\n",
    "radius=int(input(\"enter a radius\"))\n",
    "depth=int(input(\"enter a depth\"))\n",
    "volume=(math.pi*radius*radius)*depth\n",
    "print(round(volume,3))"
   ]
  },
  {
   "cell_type": "code",
   "execution_count": null,
   "metadata": {},
   "outputs": [],
   "source": [
    "#33\n",
    "number1=int(input(\"enter first number\"))\n",
    "number2=int(input(\"enter second number\"))\n",
    "quotient=number1//number2\n",
    "print(number1,\"divided by\",number2,\"is\",quotient,)"
   ]
  },
  {
   "cell_type": "code",
   "execution_count": null,
   "metadata": {},
   "outputs": [],
   "source": [
    "#34\n",
    "\n",
    "print(\"1) square\\n2) Triangle\\n\\n\")\n",
    "number=int(input('enter a number'))\n",
    "if number==1:\n",
    "    side=int(input(\"enter one side\"))\n",
    "    area=side*side\n",
    "    print(\"the area of the square is\" ,area)\n",
    "\n",
    "elif number==2:\n",
    "    base=int(input(\"enter the base\"))\n",
    "    height=int(input(\"enter the height\"))\n",
    "    area=1/2*base*height\n",
    "    print(\"the area of the triangle is\",area)\n",
    "\n",
    "\n",
    "    \n"
   ]
  },
  {
   "cell_type": "code",
   "execution_count": null,
   "metadata": {},
   "outputs": [],
   "source": [
    "#for loop\n",
    "#35\n",
    "name=(input(\"enter your name\"))\n",
    "for i in range(0,3):\n",
    "    print(name)"
   ]
  },
  {
   "cell_type": "code",
   "execution_count": null,
   "metadata": {},
   "outputs": [],
   "source": [
    "#36\n",
    "name=(input(\"enter your name\"))\n",
    "number=int(input(\"enter a number\"))\n",
    "for i in range(0,number):\n",
    "    print(name)"
   ]
  },
  {
   "cell_type": "code",
   "execution_count": null,
   "metadata": {},
   "outputs": [],
   "source": [
    "#37\n",
    "name=(input(\"enter your name\"))\n",
    "for i in name:\n",
    "    print(i)"
   ]
  },
  {
   "cell_type": "code",
   "execution_count": null,
   "metadata": {},
   "outputs": [],
   "source": [
    "#38\n",
    "name=(input(\"enter your name\"))\n",
    "number=int(input(\"enter a number\"))\n",
    "for x in range(0,number):\n",
    "    for i in name:\n",
    "       print(i)"
   ]
  },
  {
   "cell_type": "code",
   "execution_count": null,
   "metadata": {},
   "outputs": [],
   "source": [
    "#39\n",
    "number=int(input(\"enter a number  below 50\"))\n",
    "for i in range(number,0,-1):\n",
    "    print(i)"
   ]
  },
  {
   "cell_type": "code",
   "execution_count": null,
   "metadata": {},
   "outputs": [],
   "source": [
    "#39\n",
    "\n",
    "number=int(input(\"enter a number between 1 and 12\"))\n",
    "for i in range(0,number,1):\n",
    "    print(i,'X',number,'=',number*i)"
   ]
  },
  {
   "cell_type": "code",
   "execution_count": null,
   "metadata": {},
   "outputs": [],
   "source": [
    "#40\n",
    "\n",
    "number=int(input(\"enter a number below 50\"))\n",
    "for i in range(50,number-1,-1):\n",
    "    print(i)"
   ]
  },
  {
   "cell_type": "code",
   "execution_count": null,
   "metadata": {},
   "outputs": [],
   "source": [
    "#41\n",
    "name=(input(\"enter your name\"))\n",
    "number=int(input(\"enter a number\"))\n",
    "if number<10:\n",
    "    for i in range(0,number):\n",
    "        print(name)\n",
    "else:\n",
    "    for i in range(0,3):\n",
    "        print(\"too high\")\n",
    "\n",
    "\n"
   ]
  },
  {
   "cell_type": "code",
   "execution_count": null,
   "metadata": {},
   "outputs": [],
   "source": [
    "#42\n",
    "total=0\n",
    "\n",
    "for i in range(0,5):\n",
    "    number=int(input(\"enter five numbers\"))\n",
    "    choice=input(\"do you want to add it\")\n",
    "    if choice=='yes':\n",
    "        total=total + number\n",
    "print(sum)  \n",
    "   \n",
    "    "
   ]
  },
  {
   "cell_type": "code",
   "execution_count": null,
   "metadata": {},
   "outputs": [],
   "source": [
    "#43\n",
    "direction=(input('emter a direction you want to count'))\n",
    "if direction=='u':\n",
    "    number=int(input('emter a top number'))\n",
    "    for i in range(1,number+1,1):\n",
    "        print(i)\n",
    "elif direction=='d':\n",
    "    number=int(input('emter a number below 20'))\n",
    "    for i in range(20,number-1,-1):\n",
    "        print(i)\n",
    "else:\n",
    "    print(\"I DONT UNDERSTAND\")"
   ]
  },
  {
   "cell_type": "code",
   "execution_count": null,
   "metadata": {},
   "outputs": [],
   "source": [
    "#44\n",
    "number=int(input('how many people do you want to invite'))\n",
    "if number<10:\n",
    "    for i in range(0,number,1):\n",
    "        name=input(\"enter the names\")\n",
    "        print(name)\n",
    "elif number>10:\n",
    "    print(\"too many people\")"
   ]
  },
  {
   "cell_type": "code",
   "execution_count": null,
   "metadata": {},
   "outputs": [],
   "source": [
    "#WHILE LOOP\n",
    "#45\n",
    "total=0\n",
    "while total<=50:\n",
    "    number=int(input('enter a number'))\n",
    "    total=total+number\n",
    "    print(\"this is the total\",total)"
   ]
  },
  {
   "cell_type": "code",
   "execution_count": null,
   "metadata": {},
   "outputs": [],
   "source": [
    "#47\n",
    "number1=int(input('enter a number1'))\n",
    "number2=int(input('enter a number2'))\n",
    "sum=number2+number1\n",
    "\n",
    "while sum<=100:\n",
    "        choice=input('would you want to add another number')\n",
    "        if choice=='y':\n",
    "            number=int(input('enter a number'))\n",
    "            sum=sum+number\n",
    "        \n",
    "        \n",
    "print(\"sum\")\n"
   ]
  },
  {
   "cell_type": "code",
   "execution_count": null,
   "metadata": {},
   "outputs": [],
   "source": [
    "#printing pythogras \n",
    "from math import sqrt\n",
    "n = int(input(\"Maximal Number? \"))\n",
    "for a in range(1, n+1):\n",
    "    for b in range(a, n):\n",
    "        c_square = a**2 + b**2\n",
    "        c = int(sqrt(c_square))\n",
    "        if ((c_square - c**2) == 0):\n",
    "            print(a, b, c)"
   ]
  },
  {
   "cell_type": "code",
   "execution_count": null,
   "metadata": {},
   "outputs": [],
   "source": [
    "#47\n",
    "number1=int(input('enter a number'))\n",
    "total=number1\n",
    "again ='y'\n",
    "while again == 'y':\n",
    "    number2=int(input(\"enter another number\"))\n",
    "    total=total+number2\n",
    "    again=input(\"do you want to still add a another number\")\n",
    "print(total)"
   ]
  },
  {
   "cell_type": "code",
   "execution_count": null,
   "metadata": {},
   "outputs": [],
   "source": [
    "#48\n",
    "\n",
    "do ='y'\n",
    "people=0\n",
    "while do=='y':\n",
    "    name=input(\"enter the name of the person you want to invite\")\n",
    "    print(name,\"has been invited to the party\")\n",
    "    people=people+1\n",
    "    do=input(\"do you want to add another person\")\n",
    "print(people,\"have been invited to the party\")"
   ]
  },
  {
   "cell_type": "code",
   "execution_count": null,
   "metadata": {},
   "outputs": [],
   "source": [
    "#49\n",
    "compnum=50\n",
    "number=int(input(\"enter a number\"))\n",
    "count=0\n",
    "while number != compnum:\n",
    "    \n",
    "    if number<compnum:\n",
    "        print(\"the guess is low\")\n",
    "    elif number>compnum:\n",
    "        print(\"the guess is high\")\n",
    "    elif number == compnum:\n",
    "        print(\"well done you took\")\n",
    "    count=count+1\n",
    "    number=int(input(\"have another chance\"))\n",
    "    print(\"you have\",count,\"attempts\")"
   ]
  },
  {
   "cell_type": "code",
   "execution_count": null,
   "metadata": {},
   "outputs": [],
   "source": [
    "#50\n",
    "number=int(input(\"enter a number between 10 and 20\"))\n",
    "while number<10 or number>20:\n",
    "    if number<10:\n",
    "        print(\"the too low\")\n",
    "    else:\n",
    "        print(\"too high\")\n",
    "    number=int(input(\"try again:\"))\n",
    "       \n",
    "print(\"thank you\")\n",
    "\n"
   ]
  },
  {
   "cell_type": "code",
   "execution_count": null,
   "metadata": {},
   "outputs": [],
   "source": [
    "#51"
   ]
  },
  {
   "cell_type": "code",
   "execution_count": null,
   "metadata": {},
   "outputs": [],
   "source": [
    "#RANDOM\n",
    "#52\n",
    "import random\n",
    "numb=random.randrange(1,100)\n",
    "print(numb)"
   ]
  },
  {
   "cell_type": "code",
   "execution_count": null,
   "metadata": {},
   "outputs": [],
   "source": [
    "#53\n",
    "import random\n",
    "fruit=random.choice([\"pawpaw\",\"mango\",\"apple\",\"jackfruit\",\"strawberry\"])\n",
    "print(fruit)"
   ]
  },
  {
   "cell_type": "code",
   "execution_count": null,
   "metadata": {},
   "outputs": [],
   "source": [
    "#54\n",
    "import random\n",
    "pick=random.choice([\"h\",\"t\"])\n",
    "choice=input(\"enter either h or h\")\n",
    "if choice==pick:\n",
    "    print(\"you win\")\n",
    "else:\n",
    "    print(\"Bad luck\")\n",
    "    print(\"the right choice is\",pick)"
   ]
  },
  {
   "cell_type": "code",
   "execution_count": null,
   "metadata": {},
   "outputs": [],
   "source": [
    "#55\n",
    "import random\n",
    "numb=random.randint(1,5)\n",
    "choice=int(input(\"Enter a number:\"))\n",
    "if choice==numb:\n",
    "    print(\"wel done\") \n",
    "elif choice>numb:\n",
    "    print(\"too high\")\n",
    "    numb=int(input(\"pick a second number\"))\n",
    "    if choice==numb:\n",
    "        print(\"correct\")\n",
    "    else:\n",
    "        print(\"you loose\")\n",
    "\n",
    "elif choice<numb:\n",
    "    print(\"too low\")\n",
    "    numb=int(input(\"pick a second number\"))\n",
    "    if choice==numb:\n",
    "        print(\"correct\")\n",
    "    else:\n",
    "        print(\"you loose\")\n",
    "\n",
    "\n",
    "\n"
   ]
  },
  {
   "cell_type": "code",
   "execution_count": null,
   "metadata": {},
   "outputs": [],
   "source": [
    "#56\n",
    "import random\n",
    "numb=random.randint(1,10)\n",
    "dession=False\n",
    "while dession==False:\n",
    "    choice=int(input(\"Enter a number:\")) \n",
    "    if choice==numb:\n",
    "        dession=True\n",
    "        print(\"right guess\")\n",
    "    \n",
    "    "
   ]
  },
  {
   "cell_type": "code",
   "execution_count": null,
   "metadata": {},
   "outputs": [],
   "source": [
    "#57\n",
    "import random\n",
    "number=random.randint(1,10)\n",
    "dession=False\n",
    "while dession==False:\n",
    "    choice=int(input(\"Enter a number:\"))\n",
    "    if choice==number:\n",
    "        dession=True\n",
    "        print(\"right choice\")\n",
    "    elif choice>number:\n",
    "        print(\"too high\")\n",
    "    else:\n",
    "        print(\"too low\")"
   ]
  },
  {
   "cell_type": "code",
   "execution_count": null,
   "metadata": {},
   "outputs": [],
   "source": [
    "#58\n",
    "import random\n",
    "\n",
    "trial=0\n",
    "for i in range(1,6):\n",
    "    numb1=random.randint(1,50)\n",
    "    numb2=random.randint(1,50)\n",
    "    answr=numb1+numb2\n",
    "    print(numb1,\"+\",numb2,\"=\")\n",
    "    \n",
    "    result=int(input(\"enter the answer\"))\n",
    "    print()\n",
    "    if result==answr:\n",
    "        trial=trial+1\n",
    "print(\"you scored\",trial,\"out of 5\")\n"
   ]
  },
  {
   "cell_type": "code",
   "execution_count": null,
   "metadata": {},
   "outputs": [],
   "source": [
    "#59\n",
    "color=random.choice(['red','blue','green','yellow','brown'])\n",
    "print(\"select from red ,blue,green,yellow,brown\")\n",
    "correct=True\n",
    "while correct==True:\n",
    "    choice=input('pick a color')\n",
    "    choice=choice.lower()\n",
    "    if color==choice:\n",
    "        correct=True\n",
    "        print(\"wel done\")\n",
    "    else:\n",
    "        print(\"wrong\\n\",color,\"is the right choice\")\n",
    "\n",
    "\n",
    "    \n"
   ]
  },
  {
   "cell_type": "code",
   "execution_count": null,
   "metadata": {},
   "outputs": [],
   "source": [
    "#turtle\n",
    "#60\n",
    "import turtle\n",
    "turtle.shape(\"square\")\n",
    "for i in range(0,4):\n",
    "    turtle.forward(100)\n",
    "    turtle.right(90)\n",
    "turtle.exitonclick()\n"
   ]
  },
  {
   "cell_type": "code",
   "execution_count": null,
   "metadata": {},
   "outputs": [],
   "source": [
    "#61\n",
    "import turtle\n",
    "#turtle.shape(\"triangle\")\n",
    "for i in range(0,3):\n",
    "    turtle.forward(100)\n",
    "    turtle.left(120)\n",
    "turtle.exitonclick()"
   ]
  },
  {
   "cell_type": "code",
   "execution_count": null,
   "metadata": {},
   "outputs": [],
   "source": [
    "#62\n",
    "import turtle\n",
    "\n",
    "#turtle.shape(circle)\n",
    "for i in range(0,360):\n",
    "    turtle.hideturtle()\n",
    "    turtle.forward(1)\n",
    "    turtle.right(1)\n",
    "turtle.exitonclick()"
   ]
  },
  {
   "cell_type": "code",
   "execution_count": null,
   "metadata": {},
   "outputs": [],
   "source": [
    "#63\n",
    "import turtle\n",
    "turtle.color(\"blue\",\"red\")\n",
    "turtle.begin_fill()\n",
    "for i in range(0,4) :\n",
    "    turtle.forward(70)\n",
    "    turtle.right(90)\n",
    "turtle.penup()\n",
    "turtle.end_fill()\n",
    "turtle.forward(100)\n",
    "turtle.pendown()   \n",
    "\n",
    "turtle.color(\"black\",\"yellow\")  \n",
    "turtle.begin_fill()\n",
    "for i in range(0,4):\n",
    "    turtle.forward(70)\n",
    "    turtle.right(90)    \n",
    "    turtle.pendown()    \n",
    "turtle.penup()\n",
    "turtle.end_fill()\n",
    "turtle.forward(100)\n",
    "\n",
    "turtle.color(\"black\",\"green\")  \n",
    "turtle.begin_fill()\n",
    "for i in range(0,4):\n",
    "    turtle.forward(70)\n",
    "    turtle.right(90) \n",
    "turtle.penup()\n",
    "turtle.end_fill()\n",
    "turtle.forward(100)   \n",
    "\n",
    "turtle.exitonclick()\n"
   ]
  },
  {
   "cell_type": "code",
   "execution_count": null,
   "metadata": {},
   "outputs": [],
   "source": [
    "#64\n",
    "import turtle\n",
    "for i in range(0,5):\n",
    "    turtle.forward(100)\n",
    "    turtle.right(144)\n",
    "turtle.exitonclick()"
   ]
  },
  {
   "cell_type": "code",
   "execution_count": null,
   "metadata": {},
   "outputs": [],
   "source": [
    "#65\n",
    "import turtle\n",
    "turtle.left(90)\n",
    "turtle.forward(100)\n",
    "turtle.penup()\n",
    "turtle.forward(50)\n",
    "turtle.penup()\n",
    "turtle.exitonclick()"
   ]
  },
  {
   "cell_type": "code",
   "execution_count": null,
   "metadata": {},
   "outputs": [],
   "source": [
    "#66\n",
    "import turtle\n",
    "\n",
    "for i in range(0,8):\n",
    "    turtle.color(random.choice([\"blue\",\"green\",\"yellow\",\"red\"]))\n",
    "    turtle.forward(100)\n",
    "    turtle.right(45)\n",
    "turtle.exitonclick()"
   ]
  },
  {
   "cell_type": "code",
   "execution_count": null,
   "metadata": {},
   "outputs": [],
   "source": [
    "#67\n",
    "import turtle\n",
    "for i in range(0,12):\n",
    "    turtle.right(36)\n",
    "    for i in range(0,8):\n",
    "        turtle.forward(50)\n",
    "        turtle.right(45)\n",
    "turtle.hideturtle()\n",
    "turtle.exitonclick()"
   ]
  },
  {
   "cell_type": "code",
   "execution_count": null,
   "metadata": {},
   "outputs": [],
   "source": [
    "#68\n",
    "import turtle\n",
    "lines=random.randint(5,20)\n",
    "\n",
    "for x in range(0,lines):\n",
    "    length=random.randint(25,100)\n",
    "    rotate=random.randint(1,360)\n",
    "    turtle.forward(length)\n",
    "    turtle.right(rotate)\n",
    "turtle.exitonclick()"
   ]
  },
  {
   "cell_type": "code",
   "execution_count": null,
   "metadata": {},
   "outputs": [],
   "source": [
    "#TUPLES ,LISTS AND DICTIONARIES\n",
    "#69\n",
    "countries_tuple =(\"uganda\",\"kenya\",\"rwanda\",\"tanzania\",\"drcongo\")\n",
    "print(countries_tuple)\n",
    "print()\n",
    "entry=(input(\"enter country from the listed\"))\n",
    "print(\"the country has an index of\",countries_tuple.index(entry))\n"
   ]
  },
  {
   "cell_type": "code",
   "execution_count": null,
   "metadata": {},
   "outputs": [],
   "source": [
    "#70\n",
    "countries_tuple =(\"uganda\",\"kenya\",\"rwanda\",\"tanzania\",\"drcongo\")\n",
    "print(countries_tuple)\n",
    "print()\n",
    "entry=(input(\"enter country from the listed\"))\n",
    "print(\"the country has an index of\",countries_tuple.index(entry))\n",
    "entry=int(input(\"enter a number\"))\n",
    "print(\"the country \",countries_tuple[entry],\"has that index\",entry)"
   ]
  },
  {
   "cell_type": "code",
   "execution_count": null,
   "metadata": {},
   "outputs": [],
   "source": [
    "#71\n",
    "sport_list=[\"tenis\",\"rugbay\",\"luddo\",\"draft\",\"basketball\"]\n",
    "sport_list.append(input(\"enter ypur favorite sport\"))\n",
    "sport_list.sort()\n",
    "print(sport_list)"
   ]
  },
  {
   "cell_type": "code",
   "execution_count": null,
   "metadata": {},
   "outputs": [],
   "source": [
    "#72\n",
    "school_list=[\"ruler\",\"rubber\",\"set\",\"pen\",\"book\"]\n",
    "print(school_list)\n",
    "dislike=(input(\"enter a requirement yoyu wish to delete\"))\n",
    "getrid=school_list.index(dislike)\n",
    "del school_list[getrid]\n",
    "print(school_list)\n"
   ]
  },
  {
   "cell_type": "code",
   "execution_count": null,
   "metadata": {},
   "outputs": [],
   "source": [
    "#073\n",
    "food_dictionary={}\n",
    " \n",
    "food1=input(\"enter a food you like\")\n",
    "food_dictionary[1]=food1\n",
    "food2=input(\"enter another food you like\")\n",
    "food_dictionary[2]=food2\n",
    "food3=input(\"enter a food you like\")\n",
    "food_dictionary[3]=food3\n",
    "food4=input(\"enter a food you like\")\n",
    "food_dictionary[4]=food4\n",
    "print(food_dictionary)\n",
    "\n",
    "dislike=int(input(\"which of the four do you want to remove\"))\n",
    "del food_dictionary[dislike]\n",
    "    \n",
    "print(sorted(food_dictionary.values()))\n",
    "\n"
   ]
  },
  {
   "cell_type": "code",
   "execution_count": null,
   "metadata": {},
   "outputs": [],
   "source": [
    "#74\n",
    "color_list=[\"blue\",\"green\",\"red\",\"orange\",\"purple\",\"brown\",\"grey\",\"black\",\"white\",\"margenta\",]\n",
    "start_number=int(input('enter a start number between 0 and 4'))\n",
    "stop_number=int(input('enter a start number between 5 and 9'))\n",
    "print(color_list[start_number:stop_number])"
   ]
  },
  {
   "cell_type": "code",
   "execution_count": null,
   "metadata": {},
   "outputs": [],
   "source": [
    "#75\n",
    "numb_list=[234,456,874,908]\n",
    "for i in numb_list:\n",
    "    print(i)\n",
    "number=int(input('enter a start number in the list'))\n",
    "if number in numb_list:\n",
    "    print(number,\"is in postion\",numb_list.index(number))\n",
    "else:\n",
    "    print(\"it is not in the list\")"
   ]
  },
  {
   "cell_type": "code",
   "execution_count": null,
   "metadata": {},
   "outputs": [],
   "source": [
    "#76\n",
    "\n",
    "name1=input('enter name of a person you want to invite to the party')\n",
    "name2=input('enter name of another person ')\n",
    "name3=input('enter name of another person')\n",
    "names_list=[name1,name2,name3]\n",
    "choice=input(\"do you want to add others\")\n",
    "while choice=='y':\n",
    "    new= names_list.append('add the name')\n",
    "    choice=input(\"do you want to add others\")\n",
    "print(\"you have\",len(names_list),\"people coming to the party\")\n",
    "\n",
    "\n"
   ]
  },
  {
   "cell_type": "code",
   "execution_count": null,
   "metadata": {},
   "outputs": [],
   "source": [
    "#77\n",
    "name1=input('enter name of a person you want to invite to the party')\n",
    "name2=input('enter name of another person ')\n",
    "name3=input('enter name of another person')\n",
    "names_list=[name1,name2,name3]\n",
    "choice=input(\"do you want to add others\")\n",
    "while choice=='y':\n",
    "    new= names_list.append(input('add the name'))\n",
    "    choice=input(\"do you want to add others\")\n",
    "print(names_list)\n",
    "new=input('enter one of the names')\n",
    "print(new,\"is in position\",names_list.index(new),\"on the list\")\n",
    "change=input(\"do you still want that person to come to the party\")\n",
    "if change=='no':\n",
    "    names_list.remove(new)\n",
    "print(names_list)"
   ]
  },
  {
   "cell_type": "code",
   "execution_count": null,
   "metadata": {},
   "outputs": [],
   "source": [
    "#78\n",
    "program_list=[\"news\",\"soap\",\"musc\",\"movie\"]\n",
    "for x in program_list:\n",
    "    print(x)\n",
    "new=input('enter another program')\n",
    "possition=int(input('enter the position you want to kep it'))\n",
    "program_list.insert(possition,new)\n",
    "for x in program_list:\n",
    "    print(x)"
   ]
  },
  {
   "cell_type": "code",
   "execution_count": null,
   "metadata": {},
   "outputs": [],
   "source": [
    "#79\n",
    "nums=[]\n",
    "count=0\n",
    "    \n",
    "while count<3:\n",
    "    numb=int(input('enter numbers'))\n",
    "    nums.append(numb)\n",
    "    print(nums)\n",
    "    count=count+1\n",
    "last=input(\"do you want the last number saved\")\n",
    "if last=='no':\n",
    "    nums.remove(numb)\n",
    "print(nums)\n",
    "    "
   ]
  },
  {
   "cell_type": "code",
   "execution_count": null,
   "metadata": {},
   "outputs": [],
   "source": [
    "#MORE STRING MANIPULATIONS\n",
    "#80\n",
    "first_name=input(\"enter your first name\")\n",
    "print(len(first_name))\n",
    "sur_name=input(\"enter your sur name\")\n",
    "print(len(sur_name))\n",
    "display=first_name +\" \" + sur_name\n",
    "print(display)\n",
    "print(len(display))"
   ]
  },
  {
   "cell_type": "code",
   "execution_count": null,
   "metadata": {},
   "outputs": [],
   "source": [
    "#81\n",
    "subject=input(\"enter your favorate subject\")\n",
    "for letter in subject:\n",
    "    print(letter,end='-')\n",
    "    \n"
   ]
  },
  {
   "cell_type": "code",
   "execution_count": null,
   "metadata": {},
   "outputs": [],
   "source": [
    "number = int (input(\"enter a number less thn five\"))\n",
    "while number > 5:\n",
    "    number= int (input(\"please enter a number less thn five\"))\n",
    "print(number)"
   ]
  },
  {
   "cell_type": "code",
   "execution_count": null,
   "metadata": {},
   "outputs": [],
   "source": [
    "#82\n",
    "poem=\"there was a man called charles,he really liked his name\"\n",
    "print(poem)\n",
    "start_point=int(input(\"enter starting point\"))\n",
    "end_point=int(input(\"enter ending point\"))\n",
    "print(poem[start_point:end_point])"
   ]
  },
  {
   "cell_type": "code",
   "execution_count": null,
   "metadata": {},
   "outputs": [],
   "source": [
    "#83\n",
    "text=input(\"enter text in upper case\")\n",
    "tryagain=False\n",
    "while tryagain==False:\n",
    "    if text.isupper():\n",
    "        print(\"thank you\")\n",
    "        tryagain=True      \n",
    "    else:\n",
    "        \n",
    "        print(\"try again\")\n",
    "        test=input(\"enter text in upper case\")\n",
    "    "
   ]
  },
  {
   "cell_type": "code",
   "execution_count": null,
   "metadata": {},
   "outputs": [],
   "source": [
    "#84\n",
    "post_code=input(\"enter your post code\")\n",
    "m=post_code[0:2]\n",
    "print(m.upper())\n"
   ]
  },
  {
   "cell_type": "code",
   "execution_count": null,
   "metadata": {},
   "outputs": [],
   "source": [
    "#85\n",
    "name=input('enter you name')\n",
    "count=0\n",
    "for x in name:\n",
    "    if x=='a' or x=='e' or x=='i' or x=='o' or x=='u':\n",
    "        count=count+1\n",
    "print(\"vowel =\",count)"
   ]
  },
  {
   "cell_type": "code",
   "execution_count": null,
   "metadata": {},
   "outputs": [],
   "source": [
    "#86\n",
    "password=input(\"enter password\")\n",
    "\n",
    "password2=input(\"enter password again\")\n",
    "if password==password2:\n",
    "    print(\"thnk you\")\n",
    "\n",
    "elif password.lower()== password2.isupper():\n",
    "    print ('letters are correct but wrong case')  \n",
    "else:\n",
    "    print('incorrect')\n",
    "\n"
   ]
  },
  {
   "cell_type": "code",
   "execution_count": null,
   "metadata": {},
   "outputs": [],
   "source": [
    "#87\n",
    "word=input(\"enter a word\")\n",
    "length=len(word)\n",
    "numb=1\n",
    "for i in word:\n",
    "    position=length-numb\n",
    "    letter=word[position]\n",
    "    print(letter)\n",
    "    numb=numb+1"
   ]
  },
  {
   "cell_type": "code",
   "execution_count": null,
   "metadata": {},
   "outputs": [],
   "source": [
    "#NUMERIC ARRAYS\n",
    "#88\n",
    "from array import *\n",
    "nums=array('i',[])\n",
    "for i in range(0,5):\n",
    "    num=int (input('enter a number'))\n",
    "    nums.append(num)\n",
    "nums=sorted(nums)\n",
    "nums.reverse()\n",
    "print(nums)"
   ]
  },
  {
   "cell_type": "code",
   "execution_count": null,
   "metadata": {},
   "outputs": [],
   "source": [
    "from array import*\n",
    "numbers=array(\"i\",[])\n",
    "sum=0\n",
    "for i in range(0,5):\n",
    "    numb=int(input(\"enter the digit\"))\n",
    "    numbers.append(numb)\n",
    "    sum+=numb\n",
    "print(numbers,\"\\n Sum:\",sum)\n"
   ]
  },
  {
   "cell_type": "code",
   "execution_count": null,
   "metadata": {},
   "outputs": [],
   "source": [
    "#89\n",
    "import random\n",
    "from array import*\n",
    "number=array('i',[])\n",
    "for i in range(0,5):\n",
    "    num=random.randint(1,100)\n",
    "    number.append(num)\n",
    "   \n",
    "for i in number:\n",
    "     print(i)\n"
   ]
  },
  {
   "cell_type": "code",
   "execution_count": null,
   "metadata": {},
   "outputs": [],
   "source": [
    "#90\n",
    "from array import *\n",
    "\n",
    "num =array('i',[])\n",
    "entry=True\n",
    "while entry==True:\n",
    "    number=int(input(' enter number between 10 and 20'))\n",
    "    if number<=20 and number>=10:\n",
    "        for i in range(0,5):\n",
    "            number=int(input('enter number between 10 and 20'))\n",
    "            num.append(number)\n",
    "        entry=False   \n",
    "    else:\n",
    "        print(\"outside range\")\n",
    "print(\"thank you\",num)"
   ]
  },
  {
   "cell_type": "code",
   "execution_count": null,
   "metadata": {},
   "outputs": [],
   "source": [
    "#90\n",
    "from array import * \n",
    " \n",
    "num =array('i',[])\n",
    "while len(num) <5:\n",
    "    number=int(input('enter number between 10 and 20'))\n",
    "    if number<=20 and number>=10:\n",
    "        num.append(number)\n",
    "        \n",
    "    else:\n",
    "        print(\"outside range\") \n",
    "num=sorted(num)   \n",
    "num.reverse()\n",
    "for i in num:\n",
    "    print(i)\n",
    "         \n"
   ]
  },
  {
   "cell_type": "code",
   "execution_count": null,
   "metadata": {},
   "outputs": [],
   "source": [
    "#91\n",
    "from array import *\n",
    "num=array('i',[2,4,4,6,7,])\n",
    "for i in num:\n",
    "    print(i)\n",
    "\n",
    "numb=int(input('Enter digit from the array'))\n",
    "if nums.count(numb)==1:\n",
    "    print(numb,'is in the list once')\n",
    "else:\n",
    "    print(numb,'is in the list',num.count(numb),'times')"
   ]
  },
  {
   "cell_type": "code",
   "execution_count": null,
   "metadata": {},
   "outputs": [],
   "source": [
    "#92\n",
    "from array import*\n",
    "import random\n",
    "array1=array('i',[2,8,6])\n",
    "num2=array('i',[])\n",
    "for i in range(0,5):\n",
    "    num=random.randint(1,100)\n",
    "    num2.append(num)\n",
    "array1.extend(num2)\n",
    "array1=sorted(array1)\n",
    "for i in array1:\n",
    "    print(i)\n"
   ]
  },
  {
   "cell_type": "code",
   "execution_count": null,
   "metadata": {},
   "outputs": [],
   "source": [
    "#93\n",
    "num2=array('i',[])\n",
    "for i in range(0,5):\n",
    "    numb=int(input(\"enter a number\"))\n",
    "    num2.append(numb)\n",
    "num2=sorted(num2)\n",
    "for i in num2:\n",
    "    print(i)\n",
    "numb=int(input(\"enter a number fro the list\"))\n",
    "if numb in num2:\n",
    "    num2.remove(numb)\n",
    "    num3=array('i',[])\n",
    "    num3.append(numb)\n",
    "    print(num3)\n",
    "else:\n",
    "    print(\"ouyside \")"
   ]
  },
  {
   "cell_type": "code",
   "execution_count": null,
   "metadata": {},
   "outputs": [],
   "source": [
    "#94\n",
    "from array import*\n",
    "array1=array('i',[12,45,23,98,56])\n",
    "for i in array1:\n",
    "    print(i)\n",
    "num=int (input(\"choose a number from the array\"))\n",
    "take=True\n",
    "while take==True:\n",
    "    if num in array1:\n",
    "      \n",
    "        print(\"this is in position\",array1.index(num))\n",
    "        take=False\n",
    "    else:\n",
    "        print(\"try again\")\n",
    "        num=int (input(\"choose a number from the array\"))\n",
    "\n",
    "\n",
    "\n"
   ]
  },
  {
   "cell_type": "code",
   "execution_count": null,
   "metadata": {},
   "outputs": [],
   "source": [
    "#95\n",
    "from array import *\n",
    "import math\n",
    "deci=array('f',[34.4,78.44,98.76,55.12,17.56])\n",
    "tryagain=True\n",
    "while tryagain==True:\n",
    "    n=int(input('enter a number btween 2 and 5'))\n",
    "    if n>=5 or n<=2:\n",
    "        print('outside range\\n try again')\n",
    "        n=int(input('enter a number btween 2 and 5'))\n",
    "    else:\n",
    "        tryagain=False\n",
    "for i in range(0,5):\n",
    "    quotient=deci[i]/n\n",
    "    print(round(quotient,2))\n",
    "\n",
    "\n"
   ]
  },
  {
   "cell_type": "code",
   "execution_count": null,
   "metadata": {},
   "outputs": [],
   "source": [
    "#2D LISTS AND DICTIONRIES\n",
    "#96\n",
    "from array import*\n",
    "simple_array=[[2,5,8],[3,7,4],[1,6,9],[4,2,0]]\n",
    "print(simple_array)"
   ]
  },
  {
   "cell_type": "code",
   "execution_count": null,
   "metadata": {},
   "outputs": [],
   "source": [
    "#97\n",
    "simple_array=[[2,5,8],[3,7,4],[1,6,9],[4,2,0]]\n",
    "row=int(input('select a row'))\n",
    "column=int(input('select a column'))\n",
    "print(simple_array[row][column])\n"
   ]
  },
  {
   "cell_type": "code",
   "execution_count": null,
   "metadata": {},
   "outputs": [],
   "source": [
    "#98\n",
    "simple_array=[[2,5,8],[3,7,4],[1,6,9],[4,2,0]]\n",
    "row=int(input('select a row'))\n",
    "print(simple_array[row])\n",
    "new=int(input('enter a new avlue'))\n",
    "simple_array[row].append(new)\n",
    "print(simple_array[row])"
   ]
  },
  {
   "cell_type": "code",
   "execution_count": null,
   "metadata": {},
   "outputs": [],
   "source": [
    "#99\n",
    "simple_array=[[2,5,8],[3,7,4],[1,6,9],[4,2,0]]\n",
    "row=int(input('select a row'))\n",
    "\n",
    "print(simple_array[row])\n",
    "column=int(input('select a column to display'))\n",
    "print(simple_array[row][column])\n",
    "choice=input(\"do you want to change the value\")\n",
    "if choice=='y':\n",
    "    new=int(input(\"enter new value\"))\n",
    "    simple_array[row][column]=new\n",
    "print(simple_array[row])\n",
    "\n"
   ]
  },
  {
   "cell_type": "code",
   "execution_count": null,
   "metadata": {},
   "outputs": [],
   "source": [
    "#100\n",
    "sales={\"john\":{\"N\":3056,\"S\":8463,\"E\":8441,\"W\":2694 },\"Tom\":{\"N\":4832,\"S\":6786,\"E\":4737,\"W\":3612 },\"Anne\":{\"N\":5239,\"S\":4802,\"E\":5820,\"W\":1859 },\"Fiona\":{\"N\":3904,\"S\":3645,\"E\":8821,\"W\":2451 }}\n"
   ]
  },
  {
   "cell_type": "code",
   "execution_count": null,
   "metadata": {},
   "outputs": [],
   "source": [
    "#101\n",
    "sales={\"john\":{\"N\":3056,\"S\":8463,\"E\":8441,\"W\":2694 },\"Tom\":{\"N\":4832,\"S\":6786,\"E\":4737,\"W\":3612 },\"Anne\":{\"N\":5239,\"S\":4802,\"E\":5820,\"W\":1859 },\"Fiona\":{\"N\":3904,\"S\":3645,\"E\":8821,\"W\":2451 }}\n",
    "name=input(\"enter the name\")\n",
    "region=input(\"enter the region\")\n",
    "print(sales[name][region])"
   ]
  },
  {
   "cell_type": "code",
   "execution_count": null,
   "metadata": {},
   "outputs": [],
   "source": [
    "#102\n",
    "list={}\n",
    "for i in range(0,4):\n",
    "    name=input(\"enter name:\")\n",
    "    age=iint(input(\"Enter age:\"))\n",
    "    size=int(input(\"Enter shoe size:\"))\n",
    "    list[name]={\"age\":age,\"Shoe size\":size}\n",
    "nname=input(\"Enter one name from the list\")\n",
    "print(list[nname])"
   ]
  },
  {
   "cell_type": "code",
   "execution_count": null,
   "metadata": {},
   "outputs": [],
   "source": [
    "#103\n",
    "list={}\n",
    "for i in range(0,4):\n",
    "    name=input(\"enter name:\")\n",
    "    age=int(input(\"Enter age:\"))\n",
    "    size=int(input(\"Enter shoe size:\"))\n",
    "    list[name]={\"age\":age,\"Shoe size\":size}\n",
    "for name in list:\n",
    "    print((name),list[name][\"age\"])"
   ]
  },
  {
   "cell_type": "code",
   "execution_count": null,
   "metadata": {},
   "outputs": [],
   "source": [
    "#104\n",
    "list={}\n",
    "for i in range(0,4):\n",
    "    name=input(\"enter name:\")\n",
    "    age=int(input(\"Enter age:\"))\n",
    "    size=int(input(\"Enter shoe size:\"))\n",
    "    list[name]={\"age\":age,\"Shoe size\":size}\n",
    "getrid=input(\"Do you want to remove someone from the list\")\n",
    "    \n",
    "del list[getrid]\n",
    "for name in list:\n",
    "    print((name),list[name][\"age\"],list[name][\"size\"])\n",
    "\n",
    "\n"
   ]
  },
  {
   "cell_type": "code",
   "execution_count": null,
   "metadata": {},
   "outputs": [],
   "source": [
    "#READING AND WRITING TO A TXT FILE\n",
    "#105\n",
    "file=open(\"Number.txt\",\"w\")\n",
    "file.write(\"1,\")\n",
    "file.write(\"2,\")\n",
    "file.write(\"3,\")\n",
    "file.write(\"4,\")\n",
    "file.write(\"5, \")\n",
    "file.close()"
   ]
  },
  {
   "cell_type": "code",
   "execution_count": null,
   "metadata": {},
   "outputs": [],
   "source": [
    "import random\n",
    "file=open(\"number.txt\",\"w\")\n",
    "file.write(str(random.randint(1,10)), )\n",
    "file.write(str(random.randint(10,20)),)\n",
    "file.write(str(random.randint(20,30)),)\n",
    "file.write(str(random.randint(30,40)),)\n",
    "file.write(str(random.randint(40,50)),)\n",
    "file.close()"
   ]
  },
  {
   "cell_type": "code",
   "execution_count": null,
   "metadata": {},
   "outputs": [],
   "source": [
    "#106\n",
    "file=open(\"Names.txt\",\"w\")\n",
    "file.write(\"CHARLES\\n\")\n",
    "file.write(\"JANE\\n\")\n",
    "file.write(\"JOSE\\n\")\n",
    "file.write(\"SAM\\n\")\n",
    "file.write(\"JOSEPH\\n\")\n",
    "file.close()"
   ]
  },
  {
   "cell_type": "code",
   "execution_count": null,
   "metadata": {},
   "outputs": [],
   "source": [
    "#107\n",
    "file=open(\"Names.txt\",\"r\")\n",
    "print(file.read())\n",
    "file.close()"
   ]
  },
  {
   "cell_type": "code",
   "execution_count": null,
   "metadata": {},
   "outputs": [],
   "source": [
    "#108\n",
    "file=open(\"Names.txt\",\"a\")\n",
    "new=input(\"enter a new name\")\n",
    "file.write(new + \"\\n\")\n",
    "file.close()\n"
   ]
  },
  {
   "cell_type": "code",
   "execution_count": null,
   "metadata": {},
   "outputs": [],
   "source": [
    "#109\n",
    "print('1)create a new file')\n",
    "print('2)Dispaly the file')\n",
    "print('3)Add new item to the file')\n",
    "print('Make selections 1,2,or 3')\n",
    "choice=int (input(\" enter 1, 2 or 3. \"))\n",
    "if choice <1 or choice >3:\n",
    "    print('not on the list')\n",
    "elif choice==1:\n",
    "   school=(input(\" enter a school subject\")) \n",
    "   file=open(\"Subject.txt\",\"w\")\n",
    "   file.write(school + \"\\n\")\n",
    "   file.close()\n",
    "elif choice==2:\n",
    "    file=open(\"Subject.txt\",\"r\")\n",
    "    print(file.read())\n",
    "    file.close\n",
    "elif choice==3:\n",
    "    file=open(\"Subject.txt\",\"a\")\n",
    "    school=(input(\" enter another school subject\"))\n",
    "    file.write(school + \"\\n\")\n",
    "    file=open(\"Subject.txt\",\"r\")\n",
    "    print(file.read())\n",
    "   \n",
    "    file.close()\n",
    "\n",
    "\n",
    "\n",
    "\n",
    "\n"
   ]
  },
  {
   "cell_type": "code",
   "execution_count": null,
   "metadata": {},
   "outputs": [],
   "source": [
    "#110\n",
    "file=open(\"Names.txt\",\"r\")\n",
    "print(file.read())\n",
    "file.close()\n",
    "\n",
    "file=open(\"Names.txt\",\"r\")\n",
    "name=input(\"enter a name from the list above: \")\n",
    "name=name + \"\\n\"\n",
    "for row in file:\n",
    "    if row != name:\n",
    "        file=open(\"Names2.txt\",\"a\")\n",
    "        newrecord=row\n",
    "        file.write(newrecord)\n",
    "        file.close() \n",
    "file.close()\n",
    "\n"
   ]
  },
  {
   "cell_type": "code",
   "execution_count": null,
   "metadata": {},
   "outputs": [],
   "source": [
    "#READING AND WRITING TO A .CSV FILE\n",
    "#111\n",
    "import csv\n",
    "file=open(\"books.csv\",\"w\")\n",
    "newrecord=\"To kill A Mocking bird,Harper lee,1960\\n\"\n",
    "file.write(str(newrecord))\n",
    "newrecord=\"A Brief History of Time,Stephen Hawking,1988\\n\"\n",
    "file.write(str(newrecord))\n",
    "newrecord=\"The great Gatsby,F.Scott Fitzgeralld,1922\\n\"\n",
    "file.write(str(newrecord))\n",
    "newrecord=\"The Man who Mistook his wife for a hat,Oliver Sacks,1985\\n\"\n",
    "file.write(str(newrecord))\n",
    "newrecord=\"Pride and prejudice,Jane Austen,1813\\n\"\n",
    "file.write(str(newrecord))\n",
    "file.close()"
   ]
  },
  {
   "cell_type": "code",
   "execution_count": null,
   "metadata": {},
   "outputs": [],
   "source": [
    "#112\n",
    "import csv\n",
    "file=open(\"books.csv\",\"a\")\n",
    "\n",
    "title=input(\"enter a tile\")\n",
    "auther=input(\"enter the auther\")\n",
    "year=input(\"enter year\")\n",
    "newRecord=title + \",\"+auther + \",\" + year+\"\\n\"\n",
    "file.write(str(newrecord))\n",
    "file.close()\n",
    "\n",
    "file=open(\"books.csv\",\"r\")\n",
    "for row in file:\n",
    "    print(row)\n",
    "file.close()\n"
   ]
  },
  {
   "cell_type": "code",
   "execution_count": null,
   "metadata": {},
   "outputs": [],
   "source": [
    "#113\n",
    "import csv\n",
    "file=open(\"books.csv\",\"a\")\n",
    "record=int(input(\"how many records do you want to add to the list?\"))\n",
    "for i in range(0,record):\n",
    "    title=input(\"enter a tile\")\n",
    "    auther=input(\"enter the auther\")\n",
    "    year=input(\"enter year\")\n",
    "    newRecord=title + \",\"+auther + \",\" + year+\"\\n\"\n",
    "    file.write(str(newrecord))\n",
    "file.close()\n",
    "\n",
    "auther=input(\"enter a auther\")\n",
    "file=open(\"books.csv\",\"r\")\n",
    "count=0\n",
    "for row in file:\n",
    "    if auther in str(row):\n",
    "        print(row)\n",
    "        count+=1\n",
    "if count==0:\n",
    "    print(\"no auther with that name\")\n",
    "file.close()\n",
    "    \n",
    "    \n",
    "\n"
   ]
  },
  {
   "cell_type": "code",
   "execution_count": null,
   "metadata": {},
   "outputs": [],
   "source": [
    "#114\n",
    "import csv\n",
    "\n",
    "year1=input(\"enter starting year\")\n",
    "year2=input(\"enter last year\")\n",
    "file=list(csv.reader(open(\"books.csv\")))\n",
    "temp=[]\n",
    "for row in file:\n",
    "    temp.append(row)\n",
    "x=0\n",
    "for row in temp:\n",
    "    if int(temp[x][2])>=year1 and int(temp[x][12])<=year2:\n",
    "        print(temp[x])\n",
    "x=x+1\n",
    "    \n",
    "\n"
   ]
  },
  {
   "cell_type": "code",
   "execution_count": null,
   "metadata": {},
   "outputs": [],
   "source": [
    "#SUB PROGRAMS\n",
    "#118\n",
    "def entry():\n",
    "    num=int(input('enter a number'))\n",
    "    return num\n",
    "def count(num):\n",
    "    for i in range(1,num+1):\n",
    "        print(i)\n",
    "def main():\n",
    "    num=entry()\n",
    "    count(num)\n",
    "main()"
   ]
  },
  {
   "cell_type": "code",
   "execution_count": null,
   "metadata": {},
   "outputs": [],
   "source": [
    "#119\n",
    "import random\n",
    "def numb():\n",
    "    low=int(input('enter a low number'))\n",
    "    high=int(input('enter a high number'))\n",
    "    comp_num=random.randint(low,high)\n",
    "    return comp_num\n",
    "def entry():\n",
    "    print(\"i am thinkng of a number...\")\n",
    "    guess=int(input('guess the number'))\n",
    "    return guess\n",
    "def comp(comp_num,guess):\n",
    "    tryagain=True\n",
    "    while tryagain==True:\n",
    "        if(comp_num==guess):\n",
    "            print(\"Correct\")\n",
    "            tryagain=False\n",
    "        elif comp_num>guess:\n",
    "            print(\"too low\")\n",
    "            guess=int(input(\"try again\"))\n",
    "        else:\n",
    "            print(\"too high\")\n",
    "            guess=int(input(\"try again\"))\n",
    "def main():\n",
    "    comp_num=numb()\n",
    "    guess=entry()\n",
    "    comp(comp_num,guess)\n",
    "main()"
   ]
  },
  {
   "cell_type": "code",
   "execution_count": null,
   "metadata": {},
   "outputs": [],
   "source": [
    "#120\n",
    "import random\n",
    "def sub_1():\n",
    "    \n",
    "    numb1=random.randint(5,20)\n",
    "    numb2=random.randint(5,20)\n",
    "    correct=numb1+numb2\n",
    "    print('what is ',numb1,\"+\",numb2,\"=\")\n",
    "    user=int (input('enter answer'))\n",
    "    print(user,'is the answer you entered')\n",
    "    answers=(user,correct)\n",
    "    return answers\n",
    "\n",
    "\n",
    "def sub_2():\n",
    "    \n",
    "    numb1=random.randint(25,50)\n",
    "    numb2=random.randint(1,25)\n",
    "    correct=numb1-numb2\n",
    "    print('what is ',numb1,\"-\",numb2,\"=\")\n",
    "    user=int (input('enter answer')) \n",
    "    print(user,'is the answer you entered')\n",
    "    answers=(user,correct)\n",
    "    return answers\n",
    "\n",
    "\n",
    "def comp(user,correct):\n",
    "    \n",
    "    if(correct==user):\n",
    "            print(\"Correct\")\n",
    "    else:\n",
    "            print(\"incorrecct\")\n",
    "            print(correct,'is the correct answer')\n",
    "\n",
    "def main():\n",
    "    print(\"1.addition\")\n",
    "    print(\"2.subraction\")\n",
    "    choice=int (input(\"enter 1 or 2\")) \n",
    "    if choice==1:\n",
    "        user,correct=sub_1()\n",
    "        comp(user,correct)\n",
    "    elif choice==2:\n",
    "        user,correct=sub_2()\n",
    "        comp(user,correct)\n",
    "        \n",
    "    else:\n",
    "        print(\"choice between 1 and 2\")\n",
    "main()   \n"
   ]
  },
  {
   "cell_type": "code",
   "execution_count": null,
   "metadata": {},
   "outputs": [],
   "source": [
    "#tkinter GUI\n",
    "#124\n",
    "from tkinter import*\n",
    "def name():\n",
    "    nme=textbox1.get()\n",
    "    message=str(\"hello\"+nme)\n",
    "    textbox2[\"fg\"]=\"red\"\n",
    "    textbox2[\"bg\"]=\"white\"\n",
    "    textbox2[\"text\"]=message\n",
    "\n",
    "    \n",
    "\n",
    "window=Tk()\n",
    "window.geometry(\"200x110\")\n",
    "\n",
    "label1=Label(text=\"enter name\")\n",
    "label1.place(x=30,y=20)\n",
    "\n",
    "textbox1=Entry(text=\"\")\n",
    "textbox1.place(x=150,y=20,width=200,height=25)\n",
    "textbox1[\"justify\"]=\"center\"\n",
    "textbox1.focus()\n",
    "\n",
    "Button1=Button(text=\"click here\",command=name)\n",
    "Button1.place(x=30,y=50,width=120,height=25)\n",
    "\n",
    "textbox2=Message(text=\"\")\n",
    "textbox2.place(x=150,y=50,width=200,height=25)\n",
    "textbox2[\"fg\"]=\"black\"\n",
    "textbox2[\"bg\"]=\"red\"\n",
    "window.mainloop()\n"
   ]
  },
  {
   "cell_type": "code",
   "execution_count": null,
   "metadata": {},
   "outputs": [],
   "source": [
    "#125\n",
    "from tkinter import*\n",
    "import random\n",
    "def number():\n",
    "    num=random.randint(1,6)\n",
    "    answer[\"text\"]=num\n",
    "\n",
    "window=Tk()\n",
    "window.title(\"roll a dice\")\n",
    "window.geometry(\"100x120\")\n",
    "\n",
    "Button1=Button(text=\"Roll\",command=number)\n",
    "Button1.place(x=50,y=50,width=50,height=25)\n",
    "answer=Message(text=\"\")\n",
    "answer.place(x=40,y=70,width=30,height=25)\n",
    "\n",
    "window.mainloop()\n"
   ]
  },
  {
   "cell_type": "code",
   "execution_count": null,
   "metadata": {},
   "outputs": [],
   "source": [
    "#126\n",
    "from tkinter import*\n",
    "root=Tk()\n",
    "label1=Label(root,text=\"enter a number\")\n",
    "box=Entry(width=30)\n",
    "box.pack()\n",
    "def addition():\n",
    "    numb=box.get()\n",
    "    global second_number\n",
    "    numb=int(numb)\n",
    "    answer=output_txt[\"text\"]\n",
    "    answer=int(answer)\n",
    "    total=num+answer\n",
    "    output_txt[\"text\"]=total\n",
    "\n",
    "    \n",
    "def clear():\n",
    "    box.delete(0,END)\n",
    "\n",
    "button_2=Button(root,text=\"click\",command=addition)\n",
    "button_2.pack()\n",
    "button_3=Button(root,text=\"clear\",command=clear)\n",
    "button_3.pack()\n",
    "output_txt=Message(text=0)\n",
    "output_txt.pack()\n",
    "root.mainloop()\n",
    "\n",
    "\n",
    "\n",
    "   "
   ]
  },
  {
   "cell_type": "code",
   "execution_count": null,
   "metadata": {},
   "outputs": [],
   "source": [
    "#127\n",
    "from tkinter import*\n",
    "root=Tk()\n",
    "def list():\n",
    "    name=textbox1.get()\n",
    "    names_list.insert(END,name)\n",
    "    textbox1.delete(0,END)\n",
    "    textbox1.focus()\n",
    "label2=Label(text=\"enter your name\")\n",
    "label2.pack()\n",
    "textbox1=Entry(text=0)\n",
    "textbox1.pack()\n",
    "button=Button(root,text=\"add to list\",command=list)\n",
    "button.pack()\n",
    "names_list=Listbox()\n",
    "names_list.pack()\n",
    "root.mainloop()"
   ]
  },
  {
   "cell_type": "code",
   "execution_count": null,
   "metadata": {},
   "outputs": [],
   "source": [
    "alphabet=['a','b','c','d','e','f','g','h','i','j','k','l','m','n','o','p','q','r','s','t','u','v','w','x','y','z']\n",
    "\n",
    "def get_data():\n",
    "    \n",
    "    word=input(\"Enter asentance in upper case\")\n",
    "    num=int(input(\"enter a number from 1-26\"))\n",
    "    if num>26 or num==0:\n",
    "        while num>26 or num==0:\n",
    "            num=int(input(\"Out of range,please enter a number between  1-26\"))\n",
    "    data=(word.lower(),num)\n",
    "    return(data)\n",
    "def make_code(word,num):\n",
    "    new_word=\"\"\n",
    "    for x in word:\n",
    "        y=alphabet.index(x)\n",
    "        y=y+num\n",
    "        if y>26:\n",
    "            y=(y-27)%26\n",
    "        char=alphabet[y]\n",
    "        new_word=new_word+char\n",
    "    print(new_word)\n",
    "    print()\n",
    "def decode(word,num):\n",
    "    new_word=\"\"\n",
    "    for x in word:\n",
    "        y=alphabet.index(x)\n",
    "        y=y+num\n",
    "        if y<26:\n",
    "            y=(y+27)%26\n",
    "        char=alphabet[y]\n",
    "        new_word=new_word+char\n",
    "    print(new_word)\n",
    "    print()\n",
    "def main():\n",
    "    again=True\n",
    "    while again==True:\n",
    "        print(\"1)Make a code\")\n",
    "        print(\"2)Decode a Message\")\n",
    "        print(\"3)Quit\")\n",
    "        print()\n",
    "        selectiion=int(input(\"Enter your selection\"))\n",
    "        if selectiion==1:\n",
    "            (word,num) = get_data()\n",
    "            make_code(word,num)\n",
    "        elif selectiion==2:\n",
    "            (word,num)=get_data()\n",
    "            decode(word,num)\n",
    "        elif selectiion == 3:\n",
    "            again=False\n",
    "        else:\n",
    "            print(\"incorrect selection\")\n",
    "main()\n",
    "\n",
    "\n",
    "\n",
    "    \n",
    "\n"
   ]
  },
  {
   "cell_type": "code",
   "execution_count": null,
   "metadata": {},
   "outputs": [],
   "source": [
    "import random\n",
    "def computer():\n",
    "    color=[\"b\",\"r\",\"g\",\"y\"]\n",
    "    color_1=random.choice(color)\n",
    "    color_2=random.choice(color)\n",
    "    color_3=random.choice(color)\n",
    "    color_4=random.choice(color)\n",
    "    data=(color_1,color_2,color_3,color_4)\n",
    "    return data\n",
    "    \n",
    "    \n",
    "    \n",
    "def try_it(color_1,color_2,color_3,color_4):\n",
    "    print(\"colors are (b)lue,(r)ed,(g)reen,(y)ellow\")\n",
    "    choice=True\n",
    "    while choice==True:\n",
    "        colors1=input(\"enter your choice from the list for position one\")\n",
    "        colors1=colors1.lower()\n",
    "        if colors1 !='b' and colors1 !='r' and colors1 !='g' and colors1 !='y':\n",
    "            print(\"its not in the list\")\n",
    "        else:\n",
    "            choice=False\n",
    "    choice=True\n",
    "    while choice==True:\n",
    "        colors2=input(\"enter your choice from the list for position two\")\n",
    "        colors2=colors2.lower()\n",
    "        if colors2 !='b' and colors2 !='r' and colors2 !='g' and colors2 !='y':\n",
    "            print(\"its not in the list\")\n",
    "        else:\n",
    "            choice=False\n",
    "    choice=True\n",
    "    while choice==True:\n",
    "        colors3=input(\"enter your choice from the list for position three\")\n",
    "        colors3=colors3.lower()\n",
    "        if colors3 !='b' and colors3 !='r' and colors3 !='g' and colors3 !='y':\n",
    "            print(\"its not in the list\")\n",
    "        else:\n",
    "            choice=False\n",
    "    choice=True\n",
    "    while choice==True:\n",
    "        colors4=input(\"enter your choice from the list for position four\")\n",
    "        colors4=colors4.lower()\n",
    "        if colors4 !='b' and colors1 !='r' and colors4 !='g' and colors4 !='y':\n",
    "            print(\"its not in the list\")\n",
    "        else:\n",
    "            choice=False\n",
    "    choice=True\n",
    "    correct=0\n",
    "    wrong=0\n",
    "    if color_1==colors1:\n",
    "        correct+=1\n",
    "    elif color_1==colors2 or color_1==colors3 or color_1==colors4:\n",
    "        wrong+=1\n",
    "    if color_2==colors2:\n",
    "        correct+=1\n",
    "    elif color_2==colors1 or color_2==colors3 or color_2==colors4:\n",
    "        wrong+=1\n",
    "    if color_3==colors3:\n",
    "        correct+=1\n",
    "    elif color_3==colors2 or color_3==colors1 or color_3==colors4:\n",
    "        wrong+=1\n",
    "    if color_4==colors4:\n",
    "        correct+=1\n",
    "    elif color_4==colors2 or color_4==colors3 or color_4==colors1:\n",
    "        wrong+=1\n",
    "    print(\"correct color in the correct place:\",correct)\n",
    "    print(\"correct color in the wrong place:\",wrong)\n",
    "    print()\n",
    "    data2=[correct,wrong]\n",
    "    return data2\n",
    "def main():\n",
    "    (color_1,color_2,color_3,color_4)=computer()\n",
    "    score=0\n",
    "    play=True\n",
    "    while play==True:\n",
    "        (correct)=try_it(color_1,color_2,color_3,color_4)\n",
    "        score+=1\n",
    "        if correct==4:\n",
    "            play=False\n",
    "    print(\"you win !\")\n",
    "    print(\"you took \",score,\"gueses\")\n",
    "    \n",
    "main()\n",
    "\n"
   ]
  },
  {
   "cell_type": "code",
   "execution_count": null,
   "metadata": {},
   "outputs": [],
   "source": [
    "import csv\n",
    "def get_data():\n",
    "    file=list(csv.reader(open(\"User_Id.csv\")))\n",
    "    tmp=[]\n",
    "    for x in file:\n",
    "        tmp.append(x)\n",
    "    return tmp\n",
    "def create_userID(tmp):\n",
    "    name_agin = True \n",
    "    while name_agin==True:\n",
    "        entry=input(\"enter new User ID\")\n",
    "        entry.lower()\n",
    "        inlist=False\n",
    "        row=0\n",
    "        for y in tmp:\n",
    "            if entry in tmp[row][0]:\n",
    "                print(entry,\"has alraedy been taken\")\n",
    "                inlist=True\n",
    "            row+=1\n",
    "        if inlist==False:\n",
    "            name_agin=False\n",
    "    return entry\n",
    "\n",
    "def create_password():\n",
    "    symbls=[\"!\",\"$\",\"%\",\"^\",\"*\",\"?\",\"@\"]\n",
    "    digits=[\"1\",\"2\",\"3\",\"4\",\"5\",\"6\",\"7\",\"8\",\"9\",\"0\"]\n",
    "    tryagain=True\n",
    "    while tryagain==True:\n",
    "        score=0#counting the correct takings\n",
    "        correction1=False\n",
    "        correction2=False\n",
    "        correction3=False\n",
    "        correction4=False\n",
    "        password=input(\"enter Password\")\n",
    "        length=len(password)\n",
    "        if length>=8:\n",
    "            score+=1\n",
    "        for x in password:\n",
    "            if x.islower():\n",
    "                correction2=True\n",
    "            if x.isupper():\n",
    "                correction1=True\n",
    "            if x in symbls:\n",
    "                correction3=True\n",
    "            if x in digits:\n",
    "                correction4=True\n",
    "        if correction1==True:\n",
    "            score+=1\n",
    "        if correction2==True:\n",
    "            score+=1\n",
    "        if correction3==True:\n",
    "            score+=1\n",
    "        if correction4==True:\n",
    "            score+=1\n",
    "        if score==1 or score ==2:\n",
    "            print(\"this is a weak password try again\")\n",
    "            tryagain=True\n",
    "        if score ==3 or score ==4:\n",
    "            print(\"this password could be improved\")\n",
    "            again=input('do u want to try for a strong password')\n",
    "            again.lower()\n",
    "            if again==\"n\":\n",
    "                tryagain=False\n",
    "                 \n",
    "        if password !=password:\n",
    "            print(\"password do not match. file not saved\")\n",
    "            main()\n",
    "        else:\n",
    "           \n",
    "            return password\n",
    "def find_userID(tmp):\n",
    "    ask_name_again=True\n",
    "    userID=\"\"\n",
    "    while  ask_name_again==True:\n",
    "        search_id=input(\"enter user ID you are looking for\")\n",
    "        search_id.lower()\n",
    "        inlist=False\n",
    "        row=0\n",
    "        for y in tmp:\n",
    "            if search_id in tmp[row][0]:\n",
    "                inlist=True\n",
    "            row+=1\n",
    "        if inlist==True:\n",
    "            userID=search_id\n",
    "            ask_name_again=False\n",
    "        else:\n",
    "            print(search_id,\"not in list\")\n",
    "            return userID\n",
    "def change_password(entry,tmp):\n",
    "    if entry !=\"\":\n",
    "        password=create_password()\n",
    "        ID=entry.index(entry)\n",
    "        tmp[ID][1] = password\n",
    "        file=open(\"user_Id.csv\",\"w\")\n",
    "        x=0\n",
    "        for row in tmp:\n",
    "            newRecord=tmp[x][0]+\",\"+tmp[x][1]+\"\\n\"\n",
    "            file.write(newRecord)\n",
    "            x+=1\n",
    "        file.close()\n",
    "\n",
    "\n",
    "def main():\n",
    "    tmp=get_data()\n",
    "   \n",
    "    print(\"1) Create a new User ID\\n2) Change a password \\n3) Display all User IDs\\n 4) Quit\")\n",
    "    selection=int(input(\"Enter Selection:\"))\n",
    "    if selection==1:\n",
    "        userID=create_userID(tmp)\n",
    "        password=create_password()\n",
    "        file=open(\"user_Id.csv\",\"a\")\n",
    "        newRecord=userID+\",\"+password+\"\\n\"\n",
    "        file.write(str(newRecord))\n",
    "        file.close()\n",
    "    elif selection==2:\n",
    "        userID=find_userID(tmp)\n",
    "        change_password(userID,tmp)\n",
    "\n",
    "        \n",
    "\n",
    "main()\n"
   ]
  },
  {
   "cell_type": "code",
   "execution_count": null,
   "metadata": {},
   "outputs": [],
   "source": [
    "import turtle\n",
    "colors=[\"red\",\"purple\",\"green\",\"blue\",\"yellow\"]\n",
    "t=turtle.Pen()\n",
    "turtle.bgcolor(\"black\")\n",
    "for x in range(360):\n",
    "    t.pencolor(colors[x%5])\n",
    "    t.width(x//100+1)\n",
    "    t.forward(0)\n",
    "    t.left(59)\n",
    "    "
   ]
  },
  {
   "cell_type": "code",
   "execution_count": null,
   "metadata": {},
   "outputs": [],
   "source": [
    "#creating of a password\n",
    "import random\n",
    "lower_case=\"abdcefghijklmnopqstuvwxyz\"\n",
    "upper_case=\"ABCDEFGHILKLMNOPQRSTUVWXYZ\"\n",
    "numbers=\"0123456789\"\n",
    "symbols=\"@#$%&*?\\/\"\n",
    "user_for=lower_case+upper_case+numbers+symbols\n",
    "length=8\n",
    "password=\"\".join(random.sample(user_for,length))\n",
    "print(password)"
   ]
  },
  {
   "cell_type": "code",
   "execution_count": null,
   "metadata": {},
   "outputs": [],
   "source": [
    "import time\n",
    "from random import randint\n",
    "for ii in range(1,45):\n",
    "    print('')\n",
    "s=''\n",
    "for i in range(1,1000):\n",
    "    count=randint(1,100)\n",
    "    while(count>0):\n",
    "        s+=''\n",
    "    count-=1\n",
    "    \n",
    "\n",
    "    if (1%10==0):\n",
    "        print(s+'happy new year 2022')\n",
    "    else:\n",
    "        print(s+'*')\n",
    "    s=''\n",
    "\n"
   ]
  },
  {
   "cell_type": "code",
   "execution_count": 14,
   "metadata": {},
   "outputs": [
    {
     "name": "stdout",
     "output_type": "stream",
     "text": [
      "apple\n",
      "bannana\n",
      "apple\n",
      "bannana\n",
      "mango\n",
      "orange\n"
     ]
    }
   ],
   "source": [
    "fruit=(\"apple\",\"bannana\",\"mango\",'orange')\n",
    "fruits=iter(fruit)\n",
    "print(next(fruits))\n",
    "print(next(fruits))\n",
    "for i in fruit:\n",
    "    print(i)"
   ]
  },
  {
   "cell_type": "code",
   "execution_count": null,
   "metadata": {},
   "outputs": [],
   "source": [
    "#__init__ allows to do something initialising the object being created\n",
    "class Number:\n",
    "    def __iter__(self):#you can do operations,but must always return the iterator object\n",
    "        self.a=1\n",
    "        return self\n",
    "\n",
    "    def __next__(self):#__next__ allows to do multiple iterations\n",
    "        x=self.a\n",
    "        self.a+=1\n",
    "        return x\n",
    "myclass=Number()\n",
    "myiter=iter(myclass)\n",
    "\n",
    "print(next(myiter))#prints the iteration manualy\n",
    "print(next(myiter))\n",
    "print(next(myiter))\n"
   ]
  },
  {
   "cell_type": "code",
   "execution_count": null,
   "metadata": {},
   "outputs": [],
   "source": [
    "#stoping the iteration\n",
    "class Number:\n",
    "    def __iter__(self):#you can do operations,but must always return the iterator object\n",
    "        self.a=1\n",
    "        return self\n",
    "\n",
    "    def __next__(self):#__next__ allows to do multiple iterations\n",
    "\n",
    "        if self.a<=20:\n",
    "\n",
    "            x=self.a\n",
    "            self.a+=1\n",
    "            return x\n",
    "        else:\n",
    "            raise StopIteration\n",
    "myclass=Number()\n",
    "myiter=iter(myclass)\n",
    "\n",
    "for x in myiter:#displays the numbers in the itteration\n",
    "    print(x)\n"
   ]
  },
  {
   "cell_type": "code",
   "execution_count": 26,
   "metadata": {},
   "outputs": [
    {
     "name": "stdout",
     "output_type": "stream",
     "text": [
      "2022-05-18 11:16:22.123543\n"
     ]
    }
   ],
   "source": [
    "#python scopes\n",
    "#local scopes and global scopes//these work as the variables\n",
    "\n",
    "#global keyword\n",
    "import datetime\n",
    "x = datetime.datetime.now()\n",
    "print(x)"
   ]
  },
  {
   "cell_type": "code",
   "execution_count": 4,
   "metadata": {},
   "outputs": [
    {
     "name": "stdout",
     "output_type": "stream",
     "text": [
      "5\n"
     ]
    }
   ],
   "source": [
    "vowel=\"aeiou\"\n",
    "count=0\n",
    "name=(input(\"enter the name\"))\n",
    "for i in name:\n",
    "    if i in vowel:\n",
    "        count+=1\n",
    "print(count)"
   ]
  },
  {
   "cell_type": "code",
   "execution_count": null,
   "metadata": {},
   "outputs": [],
   "source": [
    "import csv\n",
    "names={}\n",
    "file=list(csv.reader(open(\"storage.csv\")))\n",
    "file=sorted(file)\n",
    "for row in file:\n",
    "    if name in file:\n",
    "        name[title]+=1 \n",
    "    names.add(row)\n",
    "    # print(row[0])"
   ]
  },
  {
   "cell_type": "code",
   "execution_count": null,
   "metadata": {},
   "outputs": [],
   "source": [
    "alphabet=['a','b','c','d','e','f','g','h','i','j','k','l','m','n','o','p','q','r','s','t','u','v','w','x','y','z']\n",
    "\n",
    "def get_data():\n",
    "    \n",
    "    word=input(\"Enter asentance in upper case\")\n",
    "    num=int(input(\"enter a number from 1-26\"))\n",
    "    if num>26 or num==0:\n",
    "        while num>26 or num==0:\n",
    "            num=int(input(\"Out of range,please enter a number between  1-26\"))\n",
    "    data=(word.lower(),num)\n",
    "    return(data)\n",
    "def make_code(word,num):\n",
    "    new_word=\"\"\n",
    "    for x in word:\n",
    "        y=alphabet.index(x)\n",
    "        y=y+num\n",
    "        if y>26:\n",
    "            y=(y-27)%26\n",
    "        char=alphabet[y]\n",
    "        new_word=new_word+char\n",
    "    print(new_word)\n",
    "    print()\n",
    "def decode(word,num):\n",
    "    new_word=\"\"\n",
    "    for x in word:\n",
    "        y=alphabet.index(x)\n",
    "        y=y+num\n",
    "        if y<26:\n",
    "            y=(y+27)%26\n",
    "        char=alphabet[y]\n",
    "        new_word=new_word+char\n",
    "    print(new_word)\n",
    "    print()\n",
    "def main():\n",
    "    again=True\n",
    "    while again==True:\n",
    "        print(\"1)Make a code\")\n",
    "        print(\"2)Decode a Message\")\n",
    "        print(\"3)Quit\")\n",
    "        print()\n",
    "        selectiion=int(input(\"Enter your selection\"))\n",
    "        if selectiion==1:\n",
    "            (word,num) = get_data()\n",
    "            make_code(word,num)\n",
    "        elif selectiion==2:\n",
    "            (word,num)=get_data()\n",
    "            decode(word,num)\n",
    "        elif selectiion == 3:\n",
    "            again=False\n",
    "        else:\n",
    "            print(\"incorrect selection\")\n",
    "main()\n"
   ]
  }
 ],
 "metadata": {
  "kernelspec": {
   "display_name": "Python 3.10.5 ('venv')",
   "language": "python",
   "name": "python3"
  },
  "language_info": {
   "codemirror_mode": {
    "name": "ipython",
    "version": 3
   },
   "file_extension": ".py",
   "mimetype": "text/x-python",
   "name": "python",
   "nbconvert_exporter": "python",
   "pygments_lexer": "ipython3",
   "version": "3.10.5"
  },
  "orig_nbformat": 4,
  "vscode": {
   "interpreter": {
    "hash": "246644666f91910b0b7c72bf9f4125a7c25c62f48b5c0fe93b70c10f26bda5be"
   }
  }
 },
 "nbformat": 4,
 "nbformat_minor": 2
}
